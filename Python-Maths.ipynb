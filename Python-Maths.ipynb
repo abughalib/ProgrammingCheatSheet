{
 "cells": [
  {
   "cell_type": "markdown",
   "metadata": {},
   "source": [
    "x_n     ->  $x_n$\t\n",
    "x^2     ->  $x^2$\t\n",
    "infty   ->  $\\infty$\t\n",
    "frac    ->  $\\frac{a}{b}$\t\n",
    "partial ->  $\\partial$\t\n",
    "alpha   ->  $\\alpha$\t\n",
    "beta    ->  $\\beta$\t\n",
    "gamma   ->  $\\gamma$\t\n",
    "Gamma   ->  $\\Gamma$\t\n",
    "Delta   ->  $\\Delta$\t\n",
    "Sin     ->  $\\sin$\t\n",
    "cos     ->  $\\cos$\t\n",
    "tan     ->  $\\tan$\t\n",
    "sum     ->  $\\sum_{n=0}^{\\infty}$\t\n",
    "prod    ->  $\\prod_{n=0}^{\\infty}$\t\n",
    "int_a^b ->  $\\int_a^b$\t\n",
    "lim     ->  $\\lim_{x \\to a}$\t\n",
    "mathrm  ->  $\\mathrm{Hom}$\t\n",
    "mathbf  ->  $\\mathbf{v}$\t\n",
    "mathbb  ->  $\\mathbb{Z}$\t\n",
    "mathscr ->  $\\mathscr{L}$\t\n",
    "mathfrak->  $\\mathfrak{g}$\t\n",
    "dots    ->  $\\dots$\t\n",
    "vdots   ->  $\\vdots$\t\n",
    "ddots   ->  $\\ddots$\t\n",
    "### Matrices and bracket\n",
    "##### Make sure to end these end{matrix} for left {right}\n",
    "begin{matrix}  -> $$\\begin{matrix} a & b \\\\ c & d \\end{matrix}$$\n",
    "begin{pmatrix} -> $$\\begin{pmatrix} a & b \\\\ c & d \\end{pmatrix}$$\n",
    "left and fract -> $$\\left( \\frac{p}{q} \\right)$$\n",
    "####  Determinant\n",
    "begin{bmatrix} -> $$\\begin{bmatrix} 1 & 2 & 1 \\\\ 3 & 0 & 1 \\\\ 0 & 2 & 4 \\end{bmatrix}$$"
   ]
  },
  {
   "cell_type": "code",
   "execution_count": 2,
   "metadata": {},
   "outputs": [
    {
     "data": {
      "text/latex": [
       "$\\displaystyle \\sum_{i = 1}^{n}n$"
      ],
      "text/plain": [
       "<IPython.core.display.Math object>"
      ]
     },
     "metadata": {},
     "output_type": "display_data"
    },
    {
     "data": {
      "text/latex": [
       "$\\displaystyle \\text {Some Common symbols -> }\\sigma \\beta \\alpha \\gamma \\delta \\sum \\theta \\int$"
      ],
      "text/plain": [
       "<IPython.core.display.Math object>"
      ]
     },
     "metadata": {},
     "output_type": "display_data"
    }
   ],
   "source": [
    "import sympy as sym\n",
    "from IPython.display import Math, display\n",
    "sym.init_printing()\n",
    "display(Math('\\\\sum_{i = 1}^{n}n')) #Summation of n national numbers\n",
    "display(Math('\\\\text {Some Common symbols -> }'\n",
    "             '\\\\sigma \\\\beta \\\\alpha \\\\gamma \\\\delta \\\\sum \\\\theta \\\\int'))\n",
    "\n",
    "#Some for fraction use \\\\frac, 'x'(multiple sign \\\\times)"
   ]
  },
  {
   "cell_type": "code",
   "execution_count": 75,
   "metadata": {},
   "outputs": [
    {
     "data": {
      "image/png": "[encoded data removed]",
      "text/latex": [
       "$\\displaystyle x$"
      ],
      "text/plain": [
       "x"
      ]
     },
     "metadata": {},
     "output_type": "display_data"
    },
    {
     "data": {
      "image/png": "[encoded data removed]",
      "text/latex": [
       "$\\displaystyle e^{\\frac{\\left(- \\alpha + \\mu\\right)^{2}}{2 \\sigma^{2}}}$"
      ],
      "text/plain": [
       "         2\n",
       " (-α + μ) \n",
       " ─────────\n",
       "       2  \n",
       "    2⋅σ   \n",
       "ℯ         "
      ]
     },
     "metadata": {},
     "output_type": "display_data"
    },
    {
     "data": {
      "text/latex": [
       "$\\displaystyle e^{\\frac{(-\\alpha+\\mu)^2}{2\\sigma^2}}$"
      ],
      "text/plain": [
       "<IPython.core.display.Math object>"
      ]
     },
     "metadata": {},
     "output_type": "display_data"
    },
    {
     "data": {
      "text/latex": [
       "$\\displaystyle \\int_0^{\\frac{\\pi}{2}}\\sin(\\theta)\\cos(\\theta)d\\theta$"
      ],
      "text/plain": [
       "<IPython.core.display.Math object>"
      ]
     },
     "metadata": {},
     "output_type": "display_data"
    }
   ],
   "source": [
    "x = sym.symbols('x')\n",
    "display(x)\n",
    "mu,alpha,sigma = sym.symbols('mu,alpha,sigma')\n",
    "\n",
    "expr = sym.exp((mu-alpha)**2/(2*sigma**2))\n",
    "\n",
    "display(expr)\n",
    "\n",
    "display(Math('e^{\\\\frac{(-\\\\alpha+\\\\mu)^2}{2\\\\sigma^2}}'))\n",
    "display(Math('\\\\int_0^{\\\\frac{\\\\pi}{2}}\\\\sin(\\\\theta)\\\\cos(\\\\theta)d\\\\theta'))"
   ]
  },
  {
   "cell_type": "code",
   "execution_count": 80,
   "metadata": {},
   "outputs": [
    {
     "data": {
      "image/png": "[encoded data removed]",
      "text/latex": [
       "$\\displaystyle 12$"
      ],
      "text/plain": [
       "12"
      ]
     },
     "execution_count": 80,
     "metadata": {},
     "output_type": "execute_result"
    }
   ],
   "source": [
    "x, y = sym.symbols('x, y')\n",
    "expr = x + 4+2*y\n",
    "expr.subs({x:-4, y: 6}) #Substitudes x with -4 and y with 6;"
   ]
  },
  {
   "cell_type": "code",
   "execution_count": 103,
   "metadata": {},
   "outputs": [
    {
     "data": {
      "text/plain": [
       "'\\\\frac{3}{4}'"
      ]
     },
     "execution_count": 103,
     "metadata": {},
     "output_type": "execute_result"
    }
   ],
   "source": [
    "#To get the code for display\n",
    "sym.latex(sym.sympify(('3/4')))"
   ]
  },
  {
   "cell_type": "code",
   "execution_count": 127,
   "metadata": {},
   "outputs": [
    {
     "data": {
      "text/latex": [
       "$\\displaystyle \\text {subs x} = -2, x^2+4 \\quad \\Rightarrow \\quad -2^2+4 = 8$"
      ],
      "text/plain": [
       "<IPython.core.display.Math object>"
      ]
     },
     "metadata": {},
     "output_type": "display_data"
    },
    {
     "data": {
      "text/latex": [
       "$\\displaystyle \\text {subs x} = -1, x^2+4 \\quad \\Rightarrow \\quad -1^2+4 = 8$"
      ],
      "text/plain": [
       "<IPython.core.display.Math object>"
      ]
     },
     "metadata": {},
     "output_type": "display_data"
    },
    {
     "data": {
      "text/latex": [
       "$\\displaystyle \\text {subs x} = 0, x^2+4 \\quad \\Rightarrow \\quad 0^2+4 = 8$"
      ],
      "text/plain": [
       "<IPython.core.display.Math object>"
      ]
     },
     "metadata": {},
     "output_type": "display_data"
    },
    {
     "data": {
      "text/latex": [
       "$\\displaystyle \\text {subs x} = 1, x^2+4 \\quad \\Rightarrow \\quad 1^2+4 = 8$"
      ],
      "text/plain": [
       "<IPython.core.display.Math object>"
      ]
     },
     "metadata": {},
     "output_type": "display_data"
    },
    {
     "data": {
      "text/latex": [
       "$\\displaystyle \\text {subs x} = 2, x^2+4 \\quad \\Rightarrow \\quad 2^2+4 = 8$"
      ],
      "text/plain": [
       "<IPython.core.display.Math object>"
      ]
     },
     "metadata": {},
     "output_type": "display_data"
    }
   ],
   "source": [
    "x = sym.symbols('x')\n",
    "ans = (x+4).subs(x, i**2)\n",
    "for i in range(-2,3):\n",
    "    display(Math(\"\\\\text {subs x} = %g, x^2+4 \\\\quad \\\\Rightarrow \\\\quad %g^2+4 = %g\" %(i, i, ans)))"
   ]
  },
  {
   "cell_type": "code",
   "execution_count": 14,
   "metadata": {},
   "outputs": [
    {
     "data": {
      "image/png": "[encoded data removed]",
      "text/latex": [
       "$\\displaystyle x^{y} x^{z}$"
      ],
      "text/plain": [
       " y  z\n",
       "x ⋅x "
      ]
     },
     "metadata": {},
     "output_type": "display_data"
    },
    {
     "data": {
      "image/png": "[encoded data removed]",
      "text/latex": [
       "$\\displaystyle x^{y + z}$"
      ],
      "text/plain": [
       " y + z\n",
       "x     "
      ]
     },
     "metadata": {},
     "output_type": "display_data"
    },
    {
     "data": {
      "image/png": "[encoded data removed]",
      "text/latex": [
       "$\\displaystyle x^{\\frac{1}{y}} x^{\\frac{1}{z}}$"
      ],
      "text/plain": [
       "y ___ z ___\n",
       "╲╱ x ⋅╲╱ x "
      ]
     },
     "metadata": {},
     "output_type": "display_data"
    },
    {
     "data": {
      "image/png": "[encoded data removed]",
      "text/latex": [
       "$\\displaystyle x^{\\frac{y + z}{y z}}$"
      ],
      "text/plain": [
       " y + z\n",
       " ─────\n",
       "  y⋅z \n",
       "x     "
      ]
     },
     "metadata": {},
     "output_type": "display_data"
    },
    {
     "data": {
      "image/png": "[encoded data removed]",
      "text/latex": [
       "$\\displaystyle x^{y} x^{- z}$"
      ],
      "text/plain": [
       " y  -z\n",
       "x ⋅x  "
      ]
     },
     "metadata": {},
     "output_type": "display_data"
    },
    {
     "data": {
      "text/latex": [
       "$\\displaystyle x^{y} x^{- z} = x^{y - z}$"
      ],
      "text/plain": [
       "<IPython.core.display.Math object>"
      ]
     },
     "metadata": {},
     "output_type": "display_data"
    }
   ],
   "source": [
    "x, y, z = sym.symbols('x,y,z')\n",
    "ex = x**y*x**z\n",
    "display(ex)\n",
    "display(sym.simplify(ex))\n",
    "\n",
    "exp1 = x**(1/y)*x**(1/z)\n",
    "display(exp1)\n",
    "display(sym.simplify(exp1))\n",
    "\n",
    "exp2 = x**y/x**z;\n",
    "\n",
    "display(exp2)\n",
    "display(Math('%s = %s'%(sym.latex(exp2), sym.latex(sym.simplify(exp2)))))"
   ]
  },
  {
   "cell_type": "code",
   "execution_count": 16,
   "metadata": {},
   "outputs": [
    {
     "data": {
      "text/latex": [
       "$\\displaystyle \\text{True}$"
      ],
      "text/plain": [
       "True"
      ]
     },
     "execution_count": 16,
     "metadata": {},
     "output_type": "execute_result"
    }
   ],
   "source": [
    "sym.Eq(4, 2+2.0)"
   ]
  },
  {
   "cell_type": "code",
   "execution_count": 18,
   "metadata": {},
   "outputs": [
    {
     "data": {
      "image/png": "[encoded data removed]",
      "text/latex": [
       "$\\displaystyle 2 e^{\\frac{\\mu^{2}}{\\alpha}}$"
      ],
      "text/plain": [
       "    2\n",
       "   μ \n",
       "   ──\n",
       "   α \n",
       "2⋅ℯ  "
      ]
     },
     "metadata": {},
     "output_type": "display_data"
    }
   ],
   "source": [
    "mu, alpha = sym.symbols('mu, alpha')\n",
    "expr = 2*sym.exp(mu**2/alpha)\n",
    "display(expr)"
   ]
  },
  {
   "cell_type": "code",
   "execution_count": 96,
   "metadata": {},
   "outputs": [
    {
     "data": {
      "image/png": "[encoded data removed]",
      "text/plain": [
       "<Figure size 432x288 with 1 Axes>"
      ]
     },
     "metadata": {
      "needs_background": "light"
     },
     "output_type": "display_data"
    }
   ],
   "source": [
    "import matplotlib.pyplot as plt\n",
    "import numpy as np\n",
    "import math\n",
    "\n",
    "y = np.array([1, 2, 3, 4, 5])\n",
    "x = np.array(['one', 'two', 'three', 'four', 'five'])\n",
    "\n",
    "plt.bar(x, y)\n",
    "\n",
    "plt.show()"
   ]
  },
  {
   "cell_type": "code",
   "execution_count": null,
   "metadata": {},
   "outputs": [],
   "source": []
  },
  {
   "cell_type": "code",
   "execution_count": null,
   "metadata": {},
   "outputs": [],
   "source": []
  },
  {
   "cell_type": "code",
   "execution_count": null,
   "metadata": {},
   "outputs": [],
   "source": []
  },
  {
   "cell_type": "code",
   "execution_count": null,
   "metadata": {},
   "outputs": [],
   "source": []
  }
 ],
 "metadata": {
  "kernelspec": {
   "display_name": "Python 3",
   "language": "python",
   "name": "python3"
  },
  "language_info": {
   "codemirror_mode": {
    "name": "ipython",
    "version": 3
   },
   "file_extension": ".py",
   "mimetype": "text/x-python",
   "name": "python",
   "nbconvert_exporter": "python",
   "pygments_lexer": "ipython3",
   "version": "3.8.2"
  }
 },
 "nbformat": 4,
 "nbformat_minor": 4
}
